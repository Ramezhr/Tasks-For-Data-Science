{
 "cells": [
  {
   "cell_type": "markdown",
   "id": "b0e54bd3",
   "metadata": {},
   "source": [
    "## Question 1:\n",
    "Write a Python function called greet_user that takes two parameters: name (a string representing the user's name) and greeting (a string representing a greeting message). The function should print the personalized greeting message. If the greeting parameter is not provided, the function should use \"Hello\" as the default greeting.\n",
    "\n",
    "Expected Output:\n",
    "\n",
    "If the user's name is \"Alice\" and no specific greeting is provided, the function should print \"Hello, Alice!\".\n",
    "\n",
    "Please write the Python code for the greet_user function and demonstrate its usage with different examples, both with and without a specific greeting"
   ]
  },
  {
   "cell_type": "code",
   "execution_count": 8,
   "id": "b692411b",
   "metadata": {},
   "outputs": [
    {
     "name": "stdin",
     "output_type": "stream",
     "text": [
      "\n",
      "Enter a custom greeting (or press Enter to skip):  \n",
      "Enter your name:  alice\n"
     ]
    },
    {
     "name": "stdout",
     "output_type": "stream",
     "text": [
      "Hello, alice!\n"
     ]
    }
   ],
   "source": [
    "custom_greeting = input(\"\\nEnter a custom greeting (or press Enter to skip): \")\n",
    "if custom_greeting:\n",
    "    greet_user(name, custom_greeting)\n",
    "name = input(\"Enter your name: \")\n",
    "greet_user(name)\n",
    "def greet_user(name,  greeting=\"Hello\"):\n",
    "    print(f\"{greeting}, {name}!\")\n",
    "    "
   ]
  },
  {
   "cell_type": "markdown",
   "id": "43a5f688",
   "metadata": {},
   "source": [
    "## Question 2:\n",
    "Write a Python program that takes two tuples as input, each containing integers, and returns a new tuple containing the element-wise sum of the corresponding elements from the input tuples. Assume the input tuples have the same length.\n",
    "\n",
    "Expected Output:\n",
    "\n",
    "If the input tuples are (1, 2, 3) and (4, 5, 6), the program should return (5, 7, 9).\n",
    "Please write the Python code to accomplish this task."
   ]
  },
  {
   "cell_type": "code",
   "execution_count": 12,
   "id": "f2e4bd5e",
   "metadata": {},
   "outputs": [
    {
     "name": "stdin",
     "output_type": "stream",
     "text": [
      "How many elements in each tuple?  3\n"
     ]
    },
    {
     "name": "stdout",
     "output_type": "stream",
     "text": [
      "\n",
      "Enter elements for first tuple:\n"
     ]
    },
    {
     "name": "stdin",
     "output_type": "stream",
     "text": [
      "Enter element 1:  1\n",
      "Enter element 2:  2\n",
      "Enter element 3:  3\n"
     ]
    },
    {
     "name": "stdout",
     "output_type": "stream",
     "text": [
      "\n",
      "Enter elements for second tuple:\n"
     ]
    },
    {
     "name": "stdin",
     "output_type": "stream",
     "text": [
      "Enter element 1:  4\n",
      "Enter element 2:  5\n",
      "Enter element 3:  6\n"
     ]
    },
    {
     "name": "stdout",
     "output_type": "stream",
     "text": [
      "(5, 7, 9)\n"
     ]
    }
   ],
   "source": [
    "# def add_tuples(tuple1, tuple2):\n",
    "    if len(tuple1) != len(tuple2):\n",
    "        raise ValueError(\"Tuples must have the same length\")\n",
    "    return tuple(x + y for x, y in zip(tuple1, tuple2))\n",
    "n = int(input(\"How many elements in each tuple? \")) \n",
    "print(\"\\nEnter elements for first tuple:\")\n",
    "tuple1 = []\n",
    "for i in range(n):\n",
    "     num = int(input(f\"Enter element {i+1}: \"))\n",
    "     tuple1.append(num)\n",
    "tuple1 = tuple(tuple1)\n",
    "print(\"\\nEnter elements for second tuple:\")\n",
    "tuple2 = []\n",
    "for i in range(n):\n",
    "     num = int(input(f\"Enter element {i+1}: \"))\n",
    "     tuple2.append(num)\n",
    "tuple2 = tuple(tuple2)\n",
    "result = add_tuples(tuple1, tuple2)\n",
    "print(result)\n"
   ]
  },
  {
   "cell_type": "markdown",
   "id": "eb50ce3a",
   "metadata": {},
   "source": [
    "## Question 3:\n",
    "Write a Python program that prompts the user to guess a secret number between 1 and 10. The program should continue to prompt the user for guesses until they correctly guess the secret number. Provide feedback to the user if their guess is too high or too low.\n",
    "\n",
    "Expected Output:\n",
    "\n",
    "If the secret number is 7 and the user's guesses are 5, 8, 7, the program should print:\n",
    "\n",
    "\"Too low! Try again.\"\n",
    "\n",
    "\"Too high! Try again.\"\n",
    "\n",
    "\"Congratulations! You guessed the secret number 7.\"\n",
    "\n",
    "Please write the Python code for this guessing game using a while loop."
   ]
  },
  {
   "cell_type": "code",
   "execution_count": null,
   "id": "227d8033",
   "metadata": {},
   "outputs": [],
   "source": [
    "# Generate a secret number between 1 and 10\n",
    "\n",
    "# Initialize the user's guess to an invalid value\n",
    "\n",
    "# Prompt the user to guess the secret number\n",
    "\n",
    "\n",
    "# End of the game\n"
   ]
  },
  {
   "cell_type": "code",
   "execution_count": 26,
   "id": "3d36701b",
   "metadata": {},
   "outputs": [
    {
     "name": "stdin",
     "output_type": "stream",
     "text": [
      "\n",
      "Enter your guess:  1\n"
     ]
    },
    {
     "name": "stdout",
     "output_type": "stream",
     "text": [
      "Too low! Try again.\n"
     ]
    },
    {
     "name": "stdin",
     "output_type": "stream",
     "text": [
      "\n",
      "Enter your guess:  11\n"
     ]
    },
    {
     "name": "stdout",
     "output_type": "stream",
     "text": [
      "Please enter a number between 1 and 10!\n"
     ]
    },
    {
     "name": "stdin",
     "output_type": "stream",
     "text": [
      "\n",
      "Enter your guess:  3\n"
     ]
    },
    {
     "name": "stdout",
     "output_type": "stream",
     "text": [
      "Too low! Try again.\n"
     ]
    },
    {
     "name": "stdin",
     "output_type": "stream",
     "text": [
      "\n",
      "Enter your guess:  5\n"
     ]
    },
    {
     "name": "stdout",
     "output_type": "stream",
     "text": [
      "\n",
      "Congratulations! You guessed the secret number 5!\n",
      "\n",
      "End of the game\n"
     ]
    }
   ],
   "source": [
    "import random\n",
    "def play_game():\n",
    "    secret_number = random.randint(1, 10)\n",
    "while True:\n",
    "    guess = int(input(\"\\nEnter your guess: \"))\n",
    "    if guess < 1 or guess > 10:\n",
    "        print(\"Please enter a number between 1 and 10!\")\n",
    "        continue\n",
    "    if guess < secret_number:\n",
    "        print(\"Too low! Try again.\")\n",
    "    elif guess > secret_number:\n",
    "        print(\"Too high! Try again.\")\n",
    "    else:\n",
    "        print(f\"\\nCongratulations! You guessed the secret number {secret_number}!\")\n",
    "        break\n",
    "print(\"\\nEnd of the game\")\n",
    "        \n",
    "        "
   ]
  },
  {
   "cell_type": "markdown",
   "id": "e3c169ff",
   "metadata": {},
   "source": [
    "## Question 4:\n",
    "Write a Python program that takes a list of words as input and creates a dictionary where the keys are the unique words in the list, and the values are lists containing the indices (positions) at which each word appears in the list.\n",
    "\n",
    "Expected Output:\n",
    "\n",
    "If the input list is [\"apple\", \"banana\", \"orange\", \"banana\", \"kiwi\", \"apple\"], the program should return {'apple': [0,5], 'banana': [1,3], 'orange': [2], 'kiwi': [4]}.\n",
    "Please write the Python code to accomplish this task."
   ]
  },
  {
   "cell_type": "code",
   "execution_count": null,
   "id": "c1f00882",
   "metadata": {},
   "outputs": [],
   "source": [
    "# Take a list of words as input\n",
    "\n",
    "# Create a dictionary with word indices \n",
    "\n",
    "# Print the resulting dictionary\n"
   ]
  },
  {
   "cell_type": "code",
   "execution_count": 30,
   "id": "e3d64d4a",
   "metadata": {},
   "outputs": [
    {
     "name": "stdout",
     "output_type": "stream",
     "text": [
      "Enter words (press Enter twice to finish):\n"
     ]
    },
    {
     "name": "stdin",
     "output_type": "stream",
     "text": [
      " apple\n",
      " banana\n",
      " orange\n",
      " banana\n",
      " kiwi\n",
      " apple\n",
      " \n"
     ]
    },
    {
     "name": "stdout",
     "output_type": "stream",
     "text": [
      "\n",
      "Word Positions Dictionary:\n",
      "'apple': [0, 5]\n",
      "'banana': [1, 3]\n",
      "'orange': [2]\n",
      "'kiwi': [4]\n"
     ]
    }
   ],
   "source": [
    "def create_word_indices(words):\n",
    "    word_positions = {}\n",
    "    for index, word in enumerate(words):\n",
    "        if word in word_positions:\n",
    "            word_positions[word].append(index)\n",
    "        else:\n",
    "            word_positions[word] = [index]      \n",
    "    return word_positions\n",
    "print(\"Enter words (press Enter twice to finish):\")\n",
    "words_list = []\n",
    "while True:\n",
    "    word = input()\n",
    "    if word == \"\":\n",
    "        break\n",
    "    words_list.append(word)\n",
    "result = create_word_indices(words_list)\n",
    "print(\"\\nWord Positions Dictionary:\")\n",
    "for word, positions in result.items():\n",
    "    print(f\"'{word}': {positions}\")"
   ]
  },
  {
   "cell_type": "code",
   "execution_count": null,
   "id": "c209d039-a526-40ef-81b6-1f95ee55af31",
   "metadata": {},
   "outputs": [],
   "source": []
  }
 ],
 "metadata": {
  "kernelspec": {
   "display_name": "Python 3 (ipykernel)",
   "language": "python",
   "name": "python3"
  },
  "language_info": {
   "codemirror_mode": {
    "name": "ipython",
    "version": 3
   },
   "file_extension": ".py",
   "mimetype": "text/x-python",
   "name": "python",
   "nbconvert_exporter": "python",
   "pygments_lexer": "ipython3",
   "version": "3.12.7"
  }
 },
 "nbformat": 4,
 "nbformat_minor": 5
}
