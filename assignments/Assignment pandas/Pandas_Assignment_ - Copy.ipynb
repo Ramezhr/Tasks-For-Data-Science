{
 "cells": [
  {
   "cell_type": "markdown",
   "metadata": {
    "id": "AXywqaKry0Kr"
   },
   "source": [
    "# **Pandas Assignment Project**\n",
    "\n",
    "### **Objective:**\n",
    "This assignment is designed to help you gain hands-on experience with Pandas, a powerful library for data manipulation and analysis in Python. You will work with data cleaning, transformation, aggregation, and visualization.\n",
    "\n",
    "---\n",
    "\n",
    "## **Instructions:**\n",
    "1. Create a Google Colab notebook.\n",
    "2. Complete all the tasks listed below.\n",
    "3. Write clean, well-commented code for each task.\n",
    "4. Submit the Colab notebook with the output of each task.\n",
    "\n",
    "---\n",
    "\n",
    "\n",
    "\n",
    "\n",
    "\n",
    "\n",
    "\n",
    "\n",
    "\n",
    "\n",
    "## **Submission Guidelines:**\n",
    "1. Share the Colab notebook with the instructor.\n",
    "2. Ensure the notebook includes:\n",
    "   - Code for each task.\n",
    "   - Output for each task.\n",
    "   - Comments explaining the code and logic.\n",
    "   - Visualizations where applicable.\n",
    "\n",
    "---\n",
    "\n",
    "## **Evaluation Criteria:**\n",
    "1. **Correctness:** The code should produce the correct output for each task.\n",
    "2. **Efficiency:** The code should be optimized and avoid unnecessary computations.\n",
    "3. **Readability:** The code should be well-structured and include comments for clarity.\n",
    "4. **Completeness:** All tasks must be completed and submitted.\n",
    "5. **Interpretation:** Provide clear explanations and interpretations of the results."
   ]
  },
  {
   "cell_type": "markdown",
   "metadata": {
    "id": "Kt0k2kefzI6c"
   },
   "source": [
    "\n",
    "## **Section 1: Data Loading and Inspection**\n",
    "In this section, you will practice loading datasets and inspecting their structure.\n",
    "\n",
    "### **Tasks:**\n",
    "1. Load a dataset (e.g., Titanic, Iris, or any dataset of your choice) into a Pandas DataFrame.\n",
    "2. Display the first 5 rows and the last 5 rows of the dataset.\n",
    "3. Check the dimensions of the dataset (number of rows and columns).\n",
    "4. Display the column names and data types of each column.\n",
    "5. Check for missing values in the dataset.\n",
    "\n",
    "---"
   ]
  },
  {
   "cell_type": "code",
   "execution_count": null,
   "metadata": {
    "id": "ekZFz0J3yme3"
   },
   "outputs": [],
   "source": []
  },
  {
   "cell_type": "markdown",
   "metadata": {
    "id": "VkrwAAHDzGGq"
   },
   "source": [
    "\n",
    "## **Section 2: Data Cleaning**\n",
    "In this section, you will clean and preprocess the dataset.\n",
    "\n",
    "### **Tasks:**\n",
    "1. Handle missing values by either filling them with a suitable value (e.g., mean, median, or mode) or dropping rows/columns with missing values.\n",
    "2. Remove duplicate rows from the dataset.\n",
    "3. Convert columns to appropriate data types (e.g., convert strings to datetime or categorical variables).\n",
    "4. Rename columns to make them more descriptive.\n",
    "5. Drop unnecessary columns from the dataset.\n",
    "\n",
    "---"
   ]
  },
  {
   "cell_type": "code",
   "execution_count": null,
   "metadata": {
    "id": "lLLAwCxuy3ly"
   },
   "outputs": [],
   "source": []
  },
  {
   "cell_type": "markdown",
   "metadata": {
    "id": "QCfw120JzDJK"
   },
   "source": [
    "## **Section 3: Data Transformation**\n",
    "In this section, you will transform and manipulate the dataset.\n",
    "\n",
    "### **Tasks:**\n",
    "1. Create a new column based on existing columns (e.g., calculate a derived metric).\n",
    "2. Filter rows based on a condition (e.g., select rows where a column value is greater than a threshold).\n",
    "3. Sort the dataset by one or more columns.\n",
    "4. Group the dataset by a categorical column and calculate summary statistics (e.g., mean, median, count) for each group.\n",
    "5. Use the `apply()` function to apply a custom function to a column.\n",
    "\n",
    "---"
   ]
  },
  {
   "cell_type": "code",
   "execution_count": null,
   "metadata": {
    "id": "C8-MIyFmy4mr"
   },
   "outputs": [],
   "source": []
  },
  {
   "cell_type": "markdown",
   "metadata": {
    "id": "5Zwb1cgVzA1B"
   },
   "source": [
    "## **Section 4: Data Aggregation**\n",
    "In this section, you will aggregate and summarize the dataset.\n",
    "\n",
    "### **Tasks:**\n",
    "1. Calculate the mean, median, and standard deviation for numerical columns.\n",
    "2. Use the `groupby()` function to group the dataset by a categorical column and calculate the sum and mean for numerical columns.\n",
    "3. Create a pivot table to summarize the dataset.\n",
    "4. Use the `crosstab()` function to create a cross-tabulation of two categorical columns.\n",
    "5. Calculate the correlation matrix for numerical columns.\n",
    "\n",
    "---"
   ]
  },
  {
   "cell_type": "code",
   "execution_count": null,
   "metadata": {
    "id": "4BRYQKQTy4fZ"
   },
   "outputs": [],
   "source": []
  },
  {
   "cell_type": "markdown",
   "metadata": {
    "id": "C0VvjXkfy-Nh"
   },
   "source": [
    "\n",
    "## **Section 5: Data Visualization**\n",
    "In this section, you will create visualizations to explore and present the dataset.\n",
    "\n",
    "### **Tasks:**\n",
    "1. Create a histogram for a numerical column.\n",
    "2. Create a bar plot to visualize the distribution of a categorical column.\n",
    "3. Create a scatter plot to explore the relationship between two numerical columns.\n",
    "4. Create a box plot to visualize the distribution of a numerical column across different categories.\n",
    "5. Create a heatmap to visualize the correlation matrix.\n",
    "\n",
    "---"
   ]
  },
  {
   "cell_type": "code",
   "execution_count": null,
   "metadata": {
    "id": "Eko9BcTIy4Xy"
   },
   "outputs": [],
   "source": []
  },
  {
   "cell_type": "markdown",
   "metadata": {
    "id": "kMbhjO02y7ES"
   },
   "source": [
    "## **Section 6: Real-World Application**\n",
    "In this section, you will apply Pandas to solve a real-world problem.\n",
    "\n",
    "### **Tasks:**\n",
    "1. Load a real-world dataset (e.g., sales data, customer data, or any dataset of your choice).\n",
    "2. Perform exploratory data analysis (EDA) by calculating summary statistics and creating visualizations.\n",
    "3. Clean and preprocess the dataset (handle missing values, remove duplicates, etc.).\n",
    "4. Answer specific business questions using the dataset (e.g., \"What is the total revenue by region?\" or \"Which product category has the highest sales?\").\n",
    "5. Write a brief report summarizing your findings.\n",
    "\n",
    "---"
   ]
  },
  {
   "cell_type": "code",
   "execution_count": null,
   "metadata": {
    "id": "llxJoH50y4Py"
   },
   "outputs": [],
   "source": []
  }
 ],
 "metadata": {
  "colab": {
   "provenance": []
  },
  "kernelspec": {
   "display_name": "Python 3 (ipykernel)",
   "language": "python",
   "name": "python3"
  },
  "language_info": {
   "codemirror_mode": {
    "name": "ipython",
    "version": 3
   },
   "file_extension": ".py",
   "mimetype": "text/x-python",
   "name": "python",
   "nbconvert_exporter": "python",
   "pygments_lexer": "ipython3",
   "version": "3.12.7"
  }
 },
 "nbformat": 4,
 "nbformat_minor": 4
}
