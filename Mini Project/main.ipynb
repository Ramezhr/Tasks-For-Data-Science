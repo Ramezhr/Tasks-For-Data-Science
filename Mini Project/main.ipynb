{
 "cells": [
  {
   "cell_type": "code",
   "execution_count": 4,
   "id": "fe023b4a-cecc-4137-a330-8cdca1eb41b9",
   "metadata": {},
   "outputs": [],
   "source": [
    "import script_calc as sc"
   ]
  },
  {
   "cell_type": "code",
   "execution_count": 6,
   "id": "deafd8c1-1c78-4177-92b1-22e122090558",
   "metadata": {},
   "outputs": [
    {
     "name": "stdin",
     "output_type": "stream",
     "text": [
      "enter the operation(add/sub/mult/div): 5\n",
      "enter the first number: 2\n",
      "enter the second number: 2\n"
     ]
    },
    {
     "name": "stdout",
     "output_type": "stream",
     "text": [
      "the operation is wrong write it again!\n"
     ]
    },
    {
     "name": "stdin",
     "output_type": "stream",
     "text": [
      "enter the operation(add/sub/mult/div): ADD\n",
      "enter the first number: 4\n",
      "enter the second number: 6\n"
     ]
    },
    {
     "name": "stdout",
     "output_type": "stream",
     "text": [
      "10\n"
     ]
    },
    {
     "name": "stdin",
     "output_type": "stream",
     "text": [
      "do you want to make another operation? (ok or stop): ok\n",
      "enter the operation(add/sub/mult/div): sub\n",
      "enter the first number: 6\n",
      "enter the second number: 2\n"
     ]
    },
    {
     "name": "stdout",
     "output_type": "stream",
     "text": [
      "4\n"
     ]
    },
    {
     "name": "stdin",
     "output_type": "stream",
     "text": [
      "do you want to make another operation? (ok or stop): ok\n",
      "enter the operation(add/sub/mult/div): diV\n",
      "enter the first number: 10\n",
      "enter the second number: 0\n"
     ]
    },
    {
     "name": "stdout",
     "output_type": "stream",
     "text": [
      "error you can't divide by 0\n"
     ]
    },
    {
     "name": "stdin",
     "output_type": "stream",
     "text": [
      "do you want to make another operation? (ok or stop): ok\n",
      "enter the operation(add/sub/mult/div): div\n",
      "enter the first number: 10\n",
      "enter the second number: 2\n"
     ]
    },
    {
     "name": "stdout",
     "output_type": "stream",
     "text": [
      "5.0\n"
     ]
    },
    {
     "name": "stdin",
     "output_type": "stream",
     "text": [
      "do you want to make another operation? (ok or stop): stop\n"
     ]
    }
   ],
   "source": [
    "while True:\n",
    "    op = str(input(\"enter the operation(add/sub/mult/div):\"))\n",
    "    a = int(input(\"enter the first number:\"))\n",
    "    b = int(input(\"enter the second number:\"))\n",
    "    if op.lower() == 'add':\n",
    "        result = sc.add(a, b)\n",
    "        print(result)\n",
    "        ask = str(input(\"do you want to make another operation? (ok or stop):\"))\n",
    "        if ask == 'stop':\n",
    "            break\n",
    "    elif op.lower() == 'sub':\n",
    "        result = sc.sub(a, b)\n",
    "        print(result)\n",
    "        ask = str(input(\"do you want to make another operation? (ok or stop):\"))\n",
    "        if ask == 'stop':\n",
    "            break\n",
    "    elif op.lower() == 'mult':\n",
    "        result = sc.mult(a, b)\n",
    "        print(result)\n",
    "        ask = str(input(\"do you want to make another operation? (ok or stop):\"))\n",
    "        if ask == 'stop':\n",
    "            break\n",
    "    elif op.lower() == 'div':\n",
    "        result = sc.div(a, b)\n",
    "        print(result)\n",
    "        ask = str(input(\"do you want to make another operation? (ok or stop):\"))\n",
    "        if ask == 'stop':\n",
    "            break\n",
    "    else:\n",
    "        print(\"the operation is wrong write it again!\")\n",
    "        \n",
    "    "
   ]
  },
  {
   "cell_type": "code",
   "execution_count": null,
   "id": "21f1c75d-a29c-43f2-a70f-3758f13e523e",
   "metadata": {},
   "outputs": [],
   "source": []
  }
 ],
 "metadata": {
  "kernelspec": {
   "display_name": "Python 3 (ipykernel)",
   "language": "python",
   "name": "python3"
  },
  "language_info": {
   "codemirror_mode": {
    "name": "ipython",
    "version": 3
   },
   "file_extension": ".py",
   "mimetype": "text/x-python",
   "name": "python",
   "nbconvert_exporter": "python",
   "pygments_lexer": "ipython3",
   "version": "3.12.7"
  }
 },
 "nbformat": 4,
 "nbformat_minor": 5
}
